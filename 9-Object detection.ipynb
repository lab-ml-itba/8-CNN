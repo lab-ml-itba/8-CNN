{
 "cells": [
  {
   "cell_type": "markdown",
   "metadata": {},
   "source": [
    "# Detección de Objetos"
   ]
  },
  {
   "cell_type": "markdown",
   "metadata": {},
   "source": [
    "**SSD**: Single Shot Detection  \n",
    "**YOLO**: You Only Look Once"
   ]
  },
  {
   "cell_type": "markdown",
   "metadata": {},
   "source": [
    "Aplicaciones:\n",
    "- Self Driven car entre otras. \n",
    "Necesita precisión y velocidad (video)"
   ]
  },
  {
   "cell_type": "markdown",
   "metadata": {},
   "source": [
    "## Localización de objetos"
   ]
  },
  {
   "cell_type": "markdown",
   "metadata": {},
   "source": [
    "![idea-basica-obj-loc](idea-basica-obj-loc.png)"
   ]
  },
  {
   "cell_type": "markdown",
   "metadata": {},
   "source": [
    "Si por ejemplo tenemos 3 clases:\n",
    "- Auto\n",
    "- Peaton\n",
    "- Moto\n",
    "\n",
    "Se define un vector de 8:\n",
    "- $P_c$: Hay o no objeto\n",
    "- $b_x$: Posición central del objeto X\n",
    "- $b_y$: Posición central del objeto Y\n",
    "- $b_h$: Alto\n",
    "- $b_w$: Ancho\n",
    "- $c_1$: Auto\n",
    "- $c_2$: Peaton\n",
    "- $c_3$: Moto"
   ]
  },
  {
   "cell_type": "markdown",
   "metadata": {},
   "source": [
    "Como es la función de costo?"
   ]
  },
  {
   "cell_type": "markdown",
   "metadata": {},
   "source": [
    "![loss-func-obj-dect](loss-func-obj-dect.png)"
   ]
  },
  {
   "cell_type": "markdown",
   "metadata": {},
   "source": [
    "$L = \\alpha L_{binary} + \\beta L_{categorical} + \\gamma L_{boundingbox}$"
   ]
  },
  {
   "cell_type": "markdown",
   "metadata": {},
   "source": [
    "![loss-eq-obj-dect](loss-eq-obj-dect.png)"
   ]
  },
  {
   "cell_type": "markdown",
   "metadata": {},
   "source": [
    "Huber loss: Similar a MSE pero lineal para valores grandes\n",
    "![](huber_loss.png)"
   ]
  },
  {
   "cell_type": "markdown",
   "metadata": {},
   "source": [
    "## Landmark detection:\n",
    "Con las mismas técnicas de localización detectar por ejemplo puntos especificos en una cara, posiciones de personas, etc"
   ]
  },
  {
   "cell_type": "markdown",
   "metadata": {},
   "source": [
    "## Detección de Objetos"
   ]
  },
  {
   "cell_type": "markdown",
   "metadata": {},
   "source": [
    "![](obj-det-train-set.png)"
   ]
  },
  {
   "cell_type": "markdown",
   "metadata": {},
   "source": [
    "## Algoritmo de Sliding Window"
   ]
  },
  {
   "cell_type": "code",
   "execution_count": 12,
   "metadata": {},
   "outputs": [
    {
     "name": "stdout",
     "output_type": "stream",
     "text": [
      "_________________________________________________________________\n",
      "Layer (type)                 Output Shape              Param #   \n",
      "=================================================================\n",
      "dense_3 (Dense)              (None, 100)               2600      \n",
      "=================================================================\n",
      "Total params: 2,600\n",
      "Trainable params: 2,600\n",
      "Non-trainable params: 0\n",
      "_________________________________________________________________\n"
     ]
    }
   ],
   "source": [
    "from keras.models import Sequential\n",
    "from keras.layers import Dense, Convolution2D, MaxPooling2D\n",
    "model_dense = Sequential()\n",
    "model_dense.add(Dense(100, input_shape=(25,)))\n",
    "model_dense.summary()"
   ]
  },
  {
   "cell_type": "code",
   "execution_count": 7,
   "metadata": {},
   "outputs": [
    {
     "name": "stdout",
     "output_type": "stream",
     "text": [
      "_________________________________________________________________\n",
      "Layer (type)                 Output Shape              Param #   \n",
      "=================================================================\n",
      "conv2d_1 (Conv2D)            (None, 1, 1, 100)         2600      \n",
      "=================================================================\n",
      "Total params: 2,600\n",
      "Trainable params: 2,600\n",
      "Non-trainable params: 0\n",
      "_________________________________________________________________\n"
     ]
    }
   ],
   "source": [
    "model_slide = Sequential()\n",
    "model_slide.add(Convolution2D(filters= 100, kernel_size=5, input_shape=(5,5,1)))\n",
    "model_slide.summary()"
   ]
  },
  {
   "cell_type": "markdown",
   "metadata": {},
   "source": [
    "![](sliding-wind-implem.png)"
   ]
  },
  {
   "cell_type": "code",
   "execution_count": 15,
   "metadata": {},
   "outputs": [
    {
     "name": "stdout",
     "output_type": "stream",
     "text": [
      "_________________________________________________________________\n",
      "Layer (type)                 Output Shape              Param #   \n",
      "=================================================================\n",
      "conv2d_8 (Conv2D)            (None, 10, 10, 16)        1216      \n",
      "_________________________________________________________________\n",
      "max_pooling2d_3 (MaxPooling2 (None, 5, 5, 16)          0         \n",
      "_________________________________________________________________\n",
      "conv2d_9 (Conv2D)            (None, 1, 1, 400)         160400    \n",
      "_________________________________________________________________\n",
      "conv2d_10 (Conv2D)           (None, 1, 1, 400)         160400    \n",
      "=================================================================\n",
      "Total params: 322,016\n",
      "Trainable params: 322,016\n",
      "Non-trainable params: 0\n",
      "_________________________________________________________________\n"
     ]
    }
   ],
   "source": [
    "model_image = Sequential()\n",
    "model_image.add(Convolution2D(filters= 16, kernel_size=5, input_shape=(14,14,3)))\n",
    "model_image.add(MaxPooling2D(2))\n",
    "model_image.add(Convolution2D(filters= 400, kernel_size=5))\n",
    "model_image.add(Convolution2D(filters= 400, kernel_size=1))\n",
    "model_image.summary()"
   ]
  },
  {
   "cell_type": "markdown",
   "metadata": {},
   "source": [
    "## Yolo\n",
    "Combinación entre Sliding Window con convolución + Localización de objetos\n",
    "\n",
    "Se divide la imagen en una grilla y se aplica la localización a cada celda de la grilla. El barrido  de la grilla se realiza con una convolucional.\n",
    "\n",
    "Y se agregan las siguientes tecnicas:"
   ]
  },
  {
   "cell_type": "markdown",
   "metadata": {},
   "source": [
    "### IoU (Indice de Jaccard)"
   ]
  },
  {
   "cell_type": "markdown",
   "metadata": {},
   "source": [
    "- Para evaluar performance del algoritmo\n",
    "- Para decidir que detección sobrevive en el algoritmo de max-supression"
   ]
  },
  {
   "cell_type": "markdown",
   "metadata": {},
   "source": [
    "## Max-supression\n",
    "Elimina las multiples detecciones\n",
    "- Mira el $P_c$' mas alto y lo toma como valido\n",
    "- Luego elimina todas las detecciones que se superponen significativamente con la del mayor $P_c$ y las elimina\n"
   ]
  },
  {
   "cell_type": "markdown",
   "metadata": {},
   "source": [
    "![](non-max-supression.png)"
   ]
  },
  {
   "cell_type": "markdown",
   "metadata": {},
   "source": [
    "### Anchor boxes"
   ]
  },
  {
   "cell_type": "markdown",
   "metadata": {},
   "source": [
    "![](anchor-boxes-2.png)"
   ]
  }
 ],
 "metadata": {
  "kernelspec": {
   "display_name": "Python 3",
   "language": "python",
   "name": "python3"
  },
  "language_info": {
   "codemirror_mode": {
    "name": "ipython",
    "version": 3
   },
   "file_extension": ".py",
   "mimetype": "text/x-python",
   "name": "python",
   "nbconvert_exporter": "python",
   "pygments_lexer": "ipython3",
   "version": "3.6.6"
  }
 },
 "nbformat": 4,
 "nbformat_minor": 2
}
